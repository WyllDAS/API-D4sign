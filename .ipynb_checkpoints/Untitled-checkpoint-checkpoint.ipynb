{
 "cells": [
  {
   "cell_type": "markdown",
   "id": "a6946b7e-01e1-40e7-bd5b-ea2d3f2edff1",
   "metadata": {},
   "source": [
    "# Scripts - API d4sgin"
   ]
  },
  {
   "cell_type": "markdown",
   "id": "367a6c63-1fda-481a-ae94-54841808f407",
   "metadata": {},
   "source": [
    "## Listar cofres"
   ]
  },
  {
   "cell_type": "code",
   "execution_count": 43,
   "id": "27e2707e-1b0d-48bf-ba8b-6a6bd5f4d5d2",
   "metadata": {},
   "outputs": [
    {
     "name": "stdout",
     "output_type": "stream",
     "text": [
      "[{\"uuid_safe\":\"7f54dd65-df1e-4877-9e0a-2f5a6fa31a3d\",\"name-safe\":\"Contratos\"}]\n"
     ]
    }
   ],
   "source": [
    "import requests\n",
    "token = 'live_4b0975fe2f8fa2ecd93228b429a0f784ce412c3fbf425661768bcccc6991f76f'\n",
    "cryptKey = 'live_crypt_NTjzsJU2ouHFbNzgkL9QnlSwqcBcQwhJ'\n",
    "\n",
    "\n",
    "url = f\"https://d4sign.com.br/api/v1/safes?tokenAPI={token}cryptKey={cryptKey}\"\n",
    "#url = f\"https://secure.d4sign.com.br/api/v1/safes?tokenAPI={token}&cryptKey={cryptKey}\"\n",
    "\n",
    "headers = {\"accept\": \"application/json\"}\n",
    "\n",
    "response = requests.get(url, headers=headers)\n",
    "\n",
    "print(response.text)"
   ]
  },
  {
   "cell_type": "markdown",
   "id": "458bd89d-c49e-4bd9-b484-5a14034e19f9",
   "metadata": {},
   "source": [
    "## 1. Criar cofres"
   ]
  },
  {
   "cell_type": "code",
   "execution_count": 42,
   "id": "4bcff465-40cf-4e45-ae89-69dead25613f",
   "metadata": {},
   "outputs": [
    {
     "name": "stdout",
     "output_type": "stream",
     "text": [
      "{\"message\":\"Batches created\",\"uuid_batches\":\"lote_embed_5f8c8835-684d-4ce6-8d32-5aeb1c10d0cc_b8800b41-fb1b-4167-ae2e-b2c9c0b444d0\",\"total\":1}\n"
     ]
    }
   ],
   "source": [
    "import requests\n",
    "\n",
    "token = 'live_4b0975fe2f8fa2ecd93228b429a0f784ce412c3fbf425661768bcccc6991f76f'\n",
    "cryptKey = 'live_crypt_NTjzsJU2ouHFbNzgkL9QnlSwqcBcQwhJ'\n",
    "\n",
    "url = f\"https://secure.d4sign.com.br/api/v1/batches?tokenAPI={token}&cryptKey={cryptKey}\"\n",
    "\n",
    "payload = { \"keys\": [\"Assinaturas-TesteAPI\"] } #nome do cofre\n",
    "headers = {\n",
    "    \"accept\": \"application/json\",\n",
    "    \"content-type\": \"application/json\"\n",
    "}\n",
    "\n",
    "response = requests.post(url, json=payload, headers=headers)\n",
    "\n",
    "print(response.text)"
   ]
  },
  {
   "cell_type": "markdown",
   "id": "83b0e38f-4e9f-43df-915f-f6abb98f083e",
   "metadata": {},
   "source": [
    "## Criar Pasta"
   ]
  },
  {
   "cell_type": "code",
   "execution_count": 23,
   "id": "635c3f6c-cec1-42c7-94a8-ce506126f0ec",
   "metadata": {},
   "outputs": [
    {
     "name": "stdout",
     "output_type": "stream",
     "text": [
      "{\"message\":\"You do not have permission on that safe\"}\n"
     ]
    }
   ],
   "source": [
    "import requests\n",
    "token = 'live_4b0975fe2f8fa2ecd93228b429a0f784ce412c3fbf425661768bcccc6991f76f'\n",
    "cryptKey = 'live_crypt_NTjzsJU2ouHFbNzgkL9QnlSwqcBcQwhJ'\n",
    "\n",
    "url = f\"https://secure.d4sign.com.br/api/v1/folders/87eceead-4c5d-4f90-b164-01b20cbb02af/create?tokenAPI={token}&cryptKey={cryptKey}\"\n",
    "\n",
    "payload = { \"folder_name\": \"Testes\" }\n",
    "headers = {\n",
    "    \"accept\": \"application/json\",\n",
    "    \"content-type\": \"application/json\"\n",
    "}\n",
    "\n",
    "response = requests.post(url, json=payload, headers=headers)\n",
    "\n",
    "print(response.text)\n",
    "#01d71716-46e2-45a2-bf0e-e3e7383b530f"
   ]
  },
  {
   "cell_type": "markdown",
   "id": "e0846ced-7397-4a03-ba0f-61e1fd029561",
   "metadata": {},
   "source": [
    "## Listar pastas"
   ]
  },
  {
   "cell_type": "code",
   "execution_count": 31,
   "id": "0d080920-a4b6-4e9a-abe9-e572ec866af4",
   "metadata": {},
   "outputs": [
    {
     "name": "stdout",
     "output_type": "stream",
     "text": [
      "[{\"uuid_safe\":\"7f54dd65-df1e-4877-9e0a-2f5a6fa31a3d\",\"uuid_folder\":\"a13fb15d-727f-472c-8580-2b4f4f28e7a2\",\"name\":\"Testes\",\"dt_cadastro\":\"2025-06-23 11:41:21\"}]\n"
     ]
    }
   ],
   "source": [
    "import requests\n",
    "\n",
    "token = 'live_4b0975fe2f8fa2ecd93228b429a0f784ce412c3fbf425661768bcccc6991f76f'\n",
    "cryptKey = 'live_crypt_NTjzsJU2ouHFbNzgkL9QnlSwqcBcQwhJ'\n",
    "url = f\"https://secure.d4sign.com.br/api/v1/folders/7f54dd65-df1e-4877-9e0a-2f5a6fa31a3d/find?tokenAPI={token}&cryptKey={cryptKey}\"\n",
    "\n",
    "headers = {\"accept\": \"application/json\"}\n",
    "\n",
    "response = requests.get(url, headers=headers)\n",
    "\n",
    "print(response.text)"
   ]
  },
  {
   "cell_type": "markdown",
   "id": "61e905b3-d813-4df5-a996-c625927b8c3b",
   "metadata": {},
   "source": [
    "## 2. Uploud Documentos"
   ]
  },
  {
   "cell_type": "code",
   "execution_count": 44,
   "id": "df1a076c-1262-4038-aca5-8fedbb5f02e3",
   "metadata": {},
   "outputs": [
    {
     "name": "stdout",
     "output_type": "stream",
     "text": [
      "400\n",
      "{\"message\":\"This account has no more limits to send documents\"}\n"
     ]
    }
   ],
   "source": [
    "import requests\n",
    "\n",
    "token = 'live_4b0975fe2f8fa2ecd93228b429a0f784ce412c3fbf425661768bcccc6991f76f'\n",
    "cryptKey = 'live_crypt_NTjzsJU2ouHFbNzgkL9QnlSwqcBcQwhJ'\n",
    "\n",
    "uuid_document = \"7f54dd65-df1e-4877-9e0a-2f5a6fa31a3d\"\n",
    "uuid_folder = \"a13fb15d-727c-472c-8580-2b4f4f28e7a2\"\n",
    "\n",
    "url = f\"https://secure.d4sign.com.br/api/v1/documents/{uuid_document}/upload?tokenAPI={token}&cryptKey={cryptKey}\"\n",
    "\n",
    "# Dados adicionais (como folder) vão em data\n",
    "data = {\n",
    "    \"uuid_folder\": uuid_folder\n",
    "}\n",
    "\n",
    "# Arquivo aberto em binário\n",
    "with open(\"proposta_aldenizia.pdf\", \"rb\") as f:\n",
    "    files = {\n",
    "        \"file\": f\n",
    "    }\n",
    "\n",
    "    response = requests.post(url, data=data, files=files)\n",
    "\n",
    "print(response.status_code)\n",
    "print(response.text)"
   ]
  },
  {
   "cell_type": "markdown",
   "id": "ed0893bb-1a28-4e54-948d-29c6e2c7db62",
   "metadata": {},
   "source": [
    "## Listar documentos"
   ]
  },
  {
   "cell_type": "code",
   "execution_count": null,
   "id": "2bb6fb2c-1662-4bf0-bfd3-8f598aac2a7e",
   "metadata": {},
   "outputs": [
    {
     "name": "stdout",
     "output_type": "stream",
     "text": [
      "Status Code: 200\n",
      "Resposta JSON: [{'total_documents': 5, 'total_in_this_page': 5, 'current_page': 1, 'total_pages': 1}, {'uuidDoc': 'fb00a160-89ea-4dd6-8b86-7c037aea02b4', 'nameDoc': 'BRENDA CARMEM PEREIRA DE MATOS CUNHA PDF', 'type': 'application/pdf', 'size': '531228', 'pages': '22', 'uuidSafe': 'cba052eb-42f4-4ddd-afab-98a181804cbb', 'safeName': 'outro', 'statusId': '2', 'statusName': 'Aguardando Signatários', 'statusComment': None, 'whoCanceled': None}, {'uuidDoc': '9ba6b38e-139d-4797-a157-a3e3fdc6feb8', 'nameDoc': 'proposta aldenizia pdf', 'type': 'application/pdf', 'size': '43628', 'pages': '8', 'uuidSafe': '87eceead-4c5d-4f90-b164-01b20cbb02af', 'safeName': 'teste', 'statusId': '2', 'statusName': 'Aguardando Signatários', 'statusComment': None, 'whoCanceled': None}, {'uuidDoc': '6c92ce63-c564-4ab0-b59e-1e7ebd98be02', 'nameDoc': 'teste pdf', 'type': 'application/pdf', 'size': '16050', 'pages': '1', 'uuidSafe': 'cba052eb-42f4-4ddd-afab-98a181804cbb', 'safeName': 'outro', 'statusId': '2', 'statusName': 'Aguardando Signatários', 'statusComment': None, 'whoCanceled': None}, {'uuidDoc': 'dbaccccc-d7af-40ac-8667-e79fc9093685', 'nameDoc': 'proposta aldenizia pdf', 'type': 'application/pdf', 'size': '43628', 'pages': '8', 'uuidSafe': 'cba052eb-42f4-4ddd-afab-98a181804cbb', 'safeName': 'outro', 'statusId': '2', 'statusName': 'Aguardando Signatários', 'statusComment': None, 'whoCanceled': None}, {'uuidDoc': 'ea39f760-f591-4761-a9a3-fd1468f3b828', 'nameDoc': 'teste pdf', 'type': 'application/pdf', 'size': '16050', 'pages': '1', 'uuidSafe': '87eceead-4c5d-4f90-b164-01b20cbb02af', 'safeName': 'teste', 'statusId': '3', 'statusName': 'Aguardando Assinaturas', 'statusComment': None, 'whoCanceled': None}]\n"
     ]
    }
   ],
   "source": [
    "import requests\n",
    "\n",
    "token = 'live_06af34ccfb4af78705087108c672fcd083608e3e6ff31bdb5a01305de5600826'\n",
    "cryptKey = 'live_crypt_7xNn4VIDjbL1Ko0rI7dqd0xBBMROHYOf'\n",
    "\n",
    "\n",
    "\n",
    "url = \"https://sandbox.d4sign.com.br/api/v1/documents\"\n",
    "\n",
    "params = {\n",
    "    \"tokenAPI\": token,\n",
    "    \"cryptKey\": cryptKey,\n",
    "    \"uuid_safe\": \"87eceead-4c5d-4f90-b164-01b20cbb02af\",\n",
    "    \"folder\": \"00b532db-f4b8-473d-8094-6625df2ca27b\"\n",
    "}\n",
    "\n",
    "response = requests.get(url, params=params)\n",
    "\n",
    "print(\"Status Code:\", response.status_code)\n",
    "print(\"Resposta JSON:\", response.json())\n"
   ]
  },
  {
   "cell_type": "code",
   "execution_count": 1,
   "id": "7f7931c4-a595-46d8-9107-9e1f09752baa",
   "metadata": {},
   "outputs": [
    {
     "ename": "TypeError",
     "evalue": "adicionar_signatario_e_enviar() missing 1 required positional argument: 'self'",
     "output_type": "error",
     "traceback": [
      "\u001b[1;31m---------------------------------------------------------------------------\u001b[0m",
      "\u001b[1;31mTypeError\u001b[0m                                 Traceback (most recent call last)",
      "Cell \u001b[1;32mIn[1], line 47\u001b[0m\n\u001b[0;32m     43\u001b[0m     \u001b[38;5;28;01melse\u001b[39;00m:\n\u001b[0;32m     44\u001b[0m         \u001b[38;5;28mprint\u001b[39m(\u001b[38;5;124m\"\u001b[39m\u001b[38;5;124m❌ Erro ao enviar para assinatura:\u001b[39m\u001b[38;5;124m\"\u001b[39m, enviar_response\u001b[38;5;241m.\u001b[39mtext)\n\u001b[1;32m---> 47\u001b[0m \u001b[43madicionar_signatario_e_enviar\u001b[49m\u001b[43m(\u001b[49m\u001b[43m)\u001b[49m\n",
      "\u001b[1;31mTypeError\u001b[0m: adicionar_signatario_e_enviar() missing 1 required positional argument: 'self'"
     ]
    }
   ],
   "source": [
    "import requests\n",
    "\n",
    "def adicionar_signatario_e_enviar(self):\n",
    "    if not self.uuid_cofre:\n",
    "        print(\"Cofre não selecionado.\")\n",
    "        return\n",
    "\n",
    "    uuid_doc = input(\"UUID do documento: \").strip()\n",
    "    email = input(\"Email do signatário: \").strip()\n",
    "    nome = input(\"Nome do signatário: \").strip()\n",
    "\n",
    "    url_add_signatario = f\"{self.base_url}/signer/new?tokenAPI={self.token}&cryptKey={self.cryptKey}\"\n",
    "    payload = {\n",
    "        \"uuidDoc\": uuid_doc,\n",
    "        \"signers\": [{\n",
    "            \"email\": email,\n",
    "            \"act\": \"sign\",\n",
    "            \"foreign\": \"0\",\n",
    "            \"certificadoicpbr\": \"0\",\n",
    "            \"assinatura_presencial\": \"0\",\n",
    "            \"name\": nome\n",
    "        }]\n",
    "    }\n",
    "\n",
    "    headers = {\n",
    "        \"accept\": \"application/json\",\n",
    "        \"content-type\": \"application/json\"\n",
    "    }\n",
    "\n",
    "    response = requests.post(url_add_signatario, headers=headers, json=payload)\n",
    "    if response.status_code == 200:\n",
    "        print(\"✅ Signatário adicionado com sucesso.\")\n",
    "    else:\n",
    "        print(\"❌ Erro ao adicionar signatário:\", response.text)\n",
    "        return\n",
    "\n",
    "    # Enviar para assinatura\n",
    "    url_enviar = f\"{self.base_url}/documents/{uuid_doc}/sendtosign?tokenAPI={self.token}&cryptKey={self.cryptKey}\"\n",
    "    enviar_response = requests.post(url_enviar, headers=headers)\n",
    "\n",
    "    if enviar_response.status_code == 200:\n",
    "        print(\"📨 Documento enviado para assinatura com sucesso.\")\n",
    "    else:\n",
    "        print(\"❌ Erro ao enviar para assinatura:\", enviar_response.text)\n",
    "\n",
    "\n",
    "adicionar_signatario_e_enviar()\n"
   ]
  },
  {
   "cell_type": "code",
   "execution_count": null,
   "id": "52815702",
   "metadata": {},
   "outputs": [],
   "source": []
  }
 ],
 "metadata": {
  "kernelspec": {
   "display_name": "Python (plotly_env)",
   "language": "python",
   "name": "plotly_env"
  },
  "language_info": {
   "codemirror_mode": {
    "name": "ipython",
    "version": 3
   },
   "file_extension": ".py",
   "mimetype": "text/x-python",
   "name": "python",
   "nbconvert_exporter": "python",
   "pygments_lexer": "ipython3",
   "version": "3.10.18"
  }
 },
 "nbformat": 4,
 "nbformat_minor": 5
}
