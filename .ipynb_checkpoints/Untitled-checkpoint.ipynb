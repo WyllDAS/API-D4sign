{
 "cells": [
  {
   "cell_type": "markdown",
   "id": "a6946b7e-01e1-40e7-bd5b-ea2d3f2edff1",
   "metadata": {},
   "source": [
    "# Scripts - API d4sgin"
   ]
  },
  {
   "cell_type": "markdown",
   "id": "367a6c63-1fda-481a-ae94-54841808f407",
   "metadata": {},
   "source": [
    "## Listar cofres"
   ]
  },
  {
   "cell_type": "code",
   "execution_count": 43,
   "id": "27e2707e-1b0d-48bf-ba8b-6a6bd5f4d5d2",
   "metadata": {},
   "outputs": [
    {
     "name": "stdout",
     "output_type": "stream",
     "text": [
      "[{\"uuid_safe\":\"7f54dd65-df1e-4877-9e0a-2f5a6fa31a3d\",\"name-safe\":\"Contratos\"}]\n"
     ]
    }
   ],
   "source": [
    "import requests\n",
    "token = 'live_4b0975fe2f8fa2ecd93228b429a0f784ce412c3fbf425661768bcccc6991f76f'\n",
    "cryptKey = 'live_crypt_NTjzsJU2ouHFbNzgkL9QnlSwqcBcQwhJ'\n",
    "\n",
    "\n",
    "url = f\"https://d4sign.com.br/api/v1/safes?tokenAPI={token}cryptKey={cryptKey}\"\n",
    "#url = f\"https://secure.d4sign.com.br/api/v1/safes?tokenAPI={token}&cryptKey={cryptKey}\"\n",
    "\n",
    "headers = {\"accept\": \"application/json\"}\n",
    "\n",
    "response = requests.get(url, headers=headers)\n",
    "\n",
    "print(response.text)"
   ]
  },
  {
   "cell_type": "markdown",
   "id": "458bd89d-c49e-4bd9-b484-5a14034e19f9",
   "metadata": {},
   "source": [
    "## 1. Criar cofres"
   ]
  },
  {
   "cell_type": "code",
   "execution_count": 42,
   "id": "4bcff465-40cf-4e45-ae89-69dead25613f",
   "metadata": {},
   "outputs": [
    {
     "name": "stdout",
     "output_type": "stream",
     "text": [
      "{\"message\":\"Batches created\",\"uuid_batches\":\"lote_embed_5f8c8835-684d-4ce6-8d32-5aeb1c10d0cc_b8800b41-fb1b-4167-ae2e-b2c9c0b444d0\",\"total\":1}\n"
     ]
    }
   ],
   "source": [
    "import requests\n",
    "\n",
    "token = 'live_4b0975fe2f8fa2ecd93228b429a0f784ce412c3fbf425661768bcccc6991f76f'\n",
    "cryptKey = 'live_crypt_NTjzsJU2ouHFbNzgkL9QnlSwqcBcQwhJ'\n",
    "\n",
    "url = f\"https://secure.d4sign.com.br/api/v1/batches?tokenAPI={token}&cryptKey={cryptKey}\"\n",
    "\n",
    "payload = { \"keys\": [\"Assinaturas-TesteAPI\"] } #nome do cofre\n",
    "headers = {\n",
    "    \"accept\": \"application/json\",\n",
    "    \"content-type\": \"application/json\"\n",
    "}\n",
    "\n",
    "response = requests.post(url, json=payload, headers=headers)\n",
    "\n",
    "print(response.text)"
   ]
  },
  {
   "cell_type": "markdown",
   "id": "83b0e38f-4e9f-43df-915f-f6abb98f083e",
   "metadata": {},
   "source": [
    "## Criar Pasta"
   ]
  },
  {
   "cell_type": "code",
   "execution_count": 23,
   "id": "635c3f6c-cec1-42c7-94a8-ce506126f0ec",
   "metadata": {},
   "outputs": [
    {
     "name": "stdout",
     "output_type": "stream",
     "text": [
      "{\"message\":\"You do not have permission on that safe\"}\n"
     ]
    }
   ],
   "source": [
    "import requests\n",
    "token = 'live_4b0975fe2f8fa2ecd93228b429a0f784ce412c3fbf425661768bcccc6991f76f'\n",
    "cryptKey = 'live_crypt_NTjzsJU2ouHFbNzgkL9QnlSwqcBcQwhJ'\n",
    "\n",
    "url = f\"https://secure.d4sign.com.br/api/v1/folders/87eceead-4c5d-4f90-b164-01b20cbb02af/create?tokenAPI={token}&cryptKey={cryptKey}\"\n",
    "\n",
    "payload = { \"folder_name\": \"Testes\" }\n",
    "headers = {\n",
    "    \"accept\": \"application/json\",\n",
    "    \"content-type\": \"application/json\"\n",
    "}\n",
    "\n",
    "response = requests.post(url, json=payload, headers=headers)\n",
    "\n",
    "print(response.text)\n",
    "#01d71716-46e2-45a2-bf0e-e3e7383b530f"
   ]
  },
  {
   "cell_type": "markdown",
   "id": "e0846ced-7397-4a03-ba0f-61e1fd029561",
   "metadata": {},
   "source": [
    "## Listar pastas"
   ]
  },
  {
   "cell_type": "code",
   "execution_count": 31,
   "id": "0d080920-a4b6-4e9a-abe9-e572ec866af4",
   "metadata": {},
   "outputs": [
    {
     "name": "stdout",
     "output_type": "stream",
     "text": [
      "[{\"uuid_safe\":\"7f54dd65-df1e-4877-9e0a-2f5a6fa31a3d\",\"uuid_folder\":\"a13fb15d-727f-472c-8580-2b4f4f28e7a2\",\"name\":\"Testes\",\"dt_cadastro\":\"2025-06-23 11:41:21\"}]\n"
     ]
    }
   ],
   "source": [
    "import requests\n",
    "\n",
    "token = 'live_4b0975fe2f8fa2ecd93228b429a0f784ce412c3fbf425661768bcccc6991f76f'\n",
    "cryptKey = 'live_crypt_NTjzsJU2ouHFbNzgkL9QnlSwqcBcQwhJ'\n",
    "url = f\"https://secure.d4sign.com.br/api/v1/folders/7f54dd65-df1e-4877-9e0a-2f5a6fa31a3d/find?tokenAPI={token}&cryptKey={cryptKey}\"\n",
    "\n",
    "headers = {\"accept\": \"application/json\"}\n",
    "\n",
    "response = requests.get(url, headers=headers)\n",
    "\n",
    "print(response.text)"
   ]
  },
  {
   "cell_type": "markdown",
   "id": "61e905b3-d813-4df5-a996-c625927b8c3b",
   "metadata": {},
   "source": [
    "## 2. Uploud Documentos"
   ]
  },
  {
   "cell_type": "code",
   "execution_count": 44,
   "id": "df1a076c-1262-4038-aca5-8fedbb5f02e3",
   "metadata": {},
   "outputs": [
    {
     "name": "stdout",
     "output_type": "stream",
     "text": [
      "400\n",
      "{\"message\":\"This account has no more limits to send documents\"}\n"
     ]
    }
   ],
   "source": [
    "import requests\n",
    "\n",
    "token = 'live_4b0975fe2f8fa2ecd93228b429a0f784ce412c3fbf425661768bcccc6991f76f'\n",
    "cryptKey = 'live_crypt_NTjzsJU2ouHFbNzgkL9QnlSwqcBcQwhJ'\n",
    "\n",
    "uuid_document = \"7f54dd65-df1e-4877-9e0a-2f5a6fa31a3d\"\n",
    "uuid_folder = \"a13fb15d-727c-472c-8580-2b4f4f28e7a2\"\n",
    "\n",
    "url = f\"https://secure.d4sign.com.br/api/v1/documents/{uuid_document}/upload?tokenAPI={token}&cryptKey={cryptKey}\"\n",
    "\n",
    "# Dados adicionais (como folder) vão em data\n",
    "data = {\n",
    "    \"uuid_folder\": uuid_folder\n",
    "}\n",
    "\n",
    "# Arquivo aberto em binário\n",
    "with open(\"proposta_aldenizia.pdf\", \"rb\") as f:\n",
    "    files = {\n",
    "        \"file\": f\n",
    "    }\n",
    "\n",
    "    response = requests.post(url, data=data, files=files)\n",
    "\n",
    "print(response.status_code)\n",
    "print(response.text)"
   ]
  },
  {
   "cell_type": "markdown",
   "id": "ed0893bb-1a28-4e54-948d-29c6e2c7db62",
   "metadata": {},
   "source": [
    "## Listar documentos"
   ]
  },
  {
   "cell_type": "code",
   "execution_count": 45,
   "id": "2bb6fb2c-1662-4bf0-bfd3-8f598aac2a7e",
   "metadata": {},
   "outputs": [
    {
     "name": "stdout",
     "output_type": "stream",
     "text": [
      "Status Code: 200\n",
      "Resposta JSON: [{'total_documents': 0, 'total_in_this_page': 0, 'current_page': 1, 'total_pages': 0}]\n"
     ]
    }
   ],
   "source": [
    "import requests\n",
    "\n",
    "token = 'live_4b0975fe2f8fa2ecd93228b429a0f784ce412c3fbf425661768bcccc6991f76f'\n",
    "cryptKey = 'live_crypt_NTjzsJU2ouHFbNzgkL9QnlSwqcBcQwhJ'\n",
    "\n",
    "\n",
    "\n",
    "url = \"https://secure.d4sign.com.br/api/v1/documents\"\n",
    "\n",
    "params = {\n",
    "    \"tokenAPI\": token,\n",
    "    \"cryptKey\": cryptKey,\n",
    "    \"uuid_safe\": \"7f54dd65-df1e-4877-9e0a-2f5a6fa31a3d\",\n",
    "    \"folder\": \"a13fb15d-727c-472c-8580-2b4f4f28e7a2\"\n",
    "}\n",
    "\n",
    "response = requests.get(url, params=params)\n",
    "\n",
    "print(\"Status Code:\", response.status_code)\n",
    "print(\"Resposta JSON:\", response.json())\n"
   ]
  },
  {
   "cell_type": "code",
   "execution_count": null,
   "id": "7f7931c4-a595-46d8-9107-9e1f09752baa",
   "metadata": {},
   "outputs": [],
   "source": []
  }
 ],
 "metadata": {
  "kernelspec": {
   "display_name": "Python 3 (ipykernel)",
   "language": "python",
   "name": "python3"
  },
  "language_info": {
   "codemirror_mode": {
    "name": "ipython",
    "version": 3
   },
   "file_extension": ".py",
   "mimetype": "text/x-python",
   "name": "python",
   "nbconvert_exporter": "python",
   "pygments_lexer": "ipython3",
   "version": "3.12.7"
  }
 },
 "nbformat": 4,
 "nbformat_minor": 5
}
